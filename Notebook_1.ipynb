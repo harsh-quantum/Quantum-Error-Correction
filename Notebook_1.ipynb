{
 "cells": [
  {
   "cell_type": "markdown",
   "metadata": {},
   "source": [
    "# History \n",
    "$ \\newcommand{\\bra}[1]{\\langle #1|} $\n",
    "$ \\newcommand{\\ket}[1]{|#1\\rangle} $\n",
    "$ \\newcommand{\\braket}[2]{\\langle #1|#2\\rangle} $\n",
    "$ \\newcommand{\\dot}[2]{ #1 \\cdot #2} $\n",
    "$ \\newcommand{\\biginner}[2]{\\left\\langle #1,#2\\right\\rangle} $\n",
    "$ \\newcommand{\\mymatrix}[2]{\\left( \\begin{array}{#1} #2\\end{array} \\right)} $\n",
    "$ \\newcommand{\\myvector}[1]{\\mymatrix{c}{#1}} $\n",
    "$ \\newcommand{\\myrvector}[1]{\\mymatrix{r}{#1}} $\n",
    "$ \\newcommand{\\mypar}[1]{\\left( #1 \\right)} $\n",
    "$ \\newcommand{\\mybigpar}[1]{ \\Big( #1 \\Big)} $\n",
    "$ \\newcommand{\\sqrttwo}{\\frac{1}{\\sqrt{2}}} $\n",
    "$ \\newcommand{\\dsqrttwo}{\\dfrac{1}{\\sqrt{2}}} $\n",
    "$ \\newcommand{\\onehalf}{\\frac{1}{2}} $\n",
    "$ \\newcommand{\\donehalf}{\\dfrac{1}{2}} $\n",
    "$ \\newcommand{\\hadamard}{ \\mymatrix{rr}{ \\sqrttwo & \\sqrttwo \\\\ \\sqrttwo & -\\sqrttwo }} $\n",
    "$ \\newcommand{\\vzero}{\\myvector{1\\\\0}} $\n",
    "$ \\newcommand{\\vone}{\\myvector{0\\\\1}} $\n",
    "$ \\newcommand{\\stateplus}{\\myvector{ \\sqrttwo \\\\  \\sqrttwo } } $\n",
    "$ \\newcommand{\\stateminus}{ \\myrvector{ \\sqrttwo \\\\ -\\sqrttwo } } $\n",
    "$ \\newcommand{\\myarray}[2]{ \\begin{array}{#1}#2\\end{array}} $\n",
    "$ \\newcommand{\\X}{ \\mymatrix{cc}{0 & 1 \\\\ 1 & 0}  } $\n",
    "$ \\newcommand{\\I}{ \\mymatrix{rr}{1 & 0 \\\\ 0 & 1}  } $\n",
    "$ \\newcommand{\\Z}{ \\mymatrix{rr}{1 & 0 \\\\ 0 & -1}  } $\n",
    "$ \\newcommand{\\Htwo}{ \\mymatrix{rrrr}{ \\frac{1}{2} & \\frac{1}{2} & \\frac{1}{2} & \\frac{1}{2} \\\\ \\frac{1}{2} & -\\frac{1}{2} & \\frac{1}{2} & -\\frac{1}{2} \\\\ \\frac{1}{2} & \\frac{1}{2} & -\\frac{1}{2} & -\\frac{1}{2} \\\\ \\frac{1}{2} & -\\frac{1}{2} & -\\frac{1}{2} & \\frac{1}{2} } } $\n",
    "$ \\newcommand{\\CNOT}{ \\mymatrix{cccc}{1 & 0 & 0 & 0 \\\\ 0 & 1 & 0 & 0 \\\\ 0 & 0 & 0 & 1 \\\\ 0 & 0 & 1 & 0} } $\n",
    "$ \\newcommand{\\norm}[1]{ \\left\\lVert #1 \\right\\rVert } $\n",
    "$ \\newcommand{\\pstate}[1]{ \\lceil \\mspace{-1mu} #1 \\mspace{-1.5mu} \\rfloor } $\n",
    "$ \\newcommand{\\greenbit}[1] {\\mathbf{{\\color{green}#1}}} $\n",
    "$ \\newcommand{\\bluebit}[1] {\\mathbf{{\\color{blue}#1}}} $\n",
    "$ \\newcommand{\\redbit}[1] {\\mathbf{{\\color{red}#1}}} $\n",
    "$ \\newcommand{\\brownbit}[1] {\\mathbf{{\\color{brown}#1}}} $\n",
    "$ \\newcommand{\\blackbit}[1] {\\mathbf{{\\color{black}#1}}} $"
   ]
  },
  {
   "cell_type": "markdown",
   "metadata": {},
   "source": [
    "The Major chunk of the theory of Quantum Mechanics was developed in the early 20th century when in 1900, A German Physicist Max Karl Plank (Also called the Father of Modern Physics)  gave his result on the quantization of light which was considered to be a continuous wave up until that point. This idea was cemented by the theoretical analysis of Huygens, who showed that wave nature of light is consistent with Ray Optics; and by Young's Double slit Experiment. However, later in 1905 Albert Einstein confirmed Plank's Hypothesis through his famous Photoelectric effect. This laid the foundation for the \"dual nature of light\". This \"dual nature\" was later extended to matter when in 1924, DeBroglie presented the notion of the matter wave as his phd thesis. The next few years followed with a lot of critisism, debate and scientists trying to explain the observed atomic phenomena with the help of semi-classical theory. In 1927, again a breakthrough was achieved with Heisenberg's famous “Uncertainty Principle”  which established an iunverse relation between the  relative precisions with which that we can measure the  velocity and position of a particle at the same time. These groundbreaking results were calling for a new formalism in the world of physics  which was presented by Irish Scientist Erwin Schrödinger with his \"Wave equation\", that controlled the evolution of a newly presented fundamental quantity, the \"Wave Function\" describing the state of the concerned system."
   ]
  },
  {
   "cell_type": "markdown",
   "metadata": {},
   "source": [
    "# Wavefunction $|\\psi⟩$\n"
   ]
  },
  {
   "cell_type": "markdown",
   "metadata": {},
   "source": [
    "According to the below picture a ball is travelling in a trajectory ,at any point we can describe the state of the system with the help of velocity and position.These variables describing the state are continuous and so is the state of the ball. In Quantum Mechanics we have Quantized or discrete states. "
   ]
  },
  {
   "cell_type": "markdown",
   "metadata": {},
   "source": [
    "<img src=\"../projectile.jpg\" width=\"40%\" align=\"left\">"
   ]
  },
  {
   "cell_type": "markdown",
   "metadata": {},
   "source": [
    "We describe these states of object by a vector.\\\n",
    "For example if we discretise the states that the ball can have and treat the ground position as state 1 and top most position as state 2 then the wave function denoting the state of the ball will be,\\\n",
    "$|\\psi_{ball}⟩=a_{1}|1⟩$ or\\\n",
    "$|\\psi_{ball}⟩=a_{2}|2⟩$  \\\n",
    "where $a_{1}$ and $a_{2} $ are the amplitudes which are proportional to the likelihood of the ball being in the corresponding state. \n",
    "\n",
    "\n",
    "As is already evident, the wave function is a vector and hence follows the general properties of vectors that come from the theory of linear algebra. Many of the properties and constraints can be understood as analogies of simple geometrical constraints that are imposed on line segments interacting in a space. An example would be the \"Cauchy-Schwarz inequalty\" that can be seen as the analogy of the \"Triangle inequality\" from geometry stating that the sum of two sides of a triangle is greater that the third side.\n",
    "\n",
    "\n",
    "In addition to this expected classical nature, quantum mechanics has some other effects that give it its radical flare."
   ]
  },
  {
   "cell_type": "markdown",
   "metadata": {},
   "source": [
    "# Pillars of Quantum Mechanics"
   ]
  },
  {
   "cell_type": "markdown",
   "metadata": {},
   "source": [
    "### <font color=\"blue\"><li>Entanglement </li><font>\n",
    "### <font color=\"blue\"><li>Superposition </li> <font>"
   ]
  },
  {
   "cell_type": "markdown",
   "metadata": {},
   "source": [
    "<b>Example for Entanglment</b>   : A direct naive example would be that of two coins such that the outcome of tossing one of the coins can affect the odds related to the outcome of the other cointoss even though the coins are not connected by any physical constraints, in fact for all we care the coins can be in separate galaxies and will still exhibit this behaviour. The specifics are ofcourse more rigourous but this example catches the essence of this important property.\n",
    "\n",
    "Entanglement, among other things, can be used to manipulate quantum states without the need of measuring them. It is also used, as we will see, as a way around the \"No Cloning theorem\" which prevents us from applying many classical error correction techniques in the Quantum domain. Hence, Entanglement becomes an important tool in terms of Quantum Error Correction as well.  . \\\n",
    "\\\n",
    "<b>Example for Superposition</b> : In the above example of the ball, if the ball is made to behave in a quantum way( or equivalenty considering an electron in an atom that can move between two energy levels) then the state of the ball before measuring it can be expressed as a linear combination of the two possible states with the square of the amplitudes being proportional to the probabilities of the ball being measured in one of these states.\\\n",
    "\\\n",
    "$|\\psi_{ball}⟩$ = $a_{1}|1⟩$ + $a_{2}|2⟩$ .\n",
    "\n",
    "\n",
    "If we measure the wavefunction $|\\psi⟩$ \\\n",
    "state $|1⟩$ is measured with probability ${a_{1}}^2$ and state $|2⟩$ with ${a_{2}}^2$ "
   ]
  },
  {
   "cell_type": "markdown",
   "metadata": {},
   "source": [
    "# Quantum Computer"
   ]
  },
  {
   "cell_type": "markdown",
   "metadata": {},
   "source": [
    "Quantum computers were proposed as the ultimate class of controllable quantum systems which will help us leverage these interesting properties of Quantum Mechanics to carry out complex computations and provide means to solving problems that are impractical for classical computers. \\\n",
    "Over the years, we have made significant strides in both in terms of hardware implementation of these computers and theoretical advancements in the algorithms designed specifically for the quantum paradigm. We have come out of the era where these machines and the supporting theory were mere proofs of concepts. Currently, we are in the Noisy Intermidiate Scale Quantum(NISQ) era and are stedily heading towards the Fault- Tolerant regime of Quantum Computers. Quantum Error Correction will play a major role in this transition as it is this Noise and the subsequent errors that we have to counter to realize the dream of Fault Tolerant Quantum Computers that can run powerful algorithms."
   ]
  },
  {
   "cell_type": "markdown",
   "metadata": {},
   "source": [
    "For quantum computer with $N$ qubits , there are total $2^{N}$ total different states.\n",
    " #### $|\\psi⟩ =\\sum_{m=0}^{2^{N}-1}a_{m}|m⟩$"
   ]
  },
  {
   "cell_type": "markdown",
   "metadata": {},
   "source": [
    "Quantum computer allows us to control this states in a completely arbitrary way: \n",
    "\t\t\n",
    "$|\\psi_{output}⟩ = U_{algorithm}|\\psi_{input}⟩$\n",
    "\t"
   ]
  },
  {
   "cell_type": "markdown",
   "metadata": {},
   "source": [
    "## Qubit"
   ]
  },
  {
   "cell_type": "markdown",
   "metadata": {},
   "source": [
    "The simplest two level quantum system or a <b>qubit</b> \\\n",
    "\\\n",
    "\\\n",
    "Normalised form :  $|\\psi⟩$ = $\\cos \\frac{\\theta }{2}|0⟩$ + $e^{i\\phi }$ $\\sin \\frac{\\theta }{2}|1⟩$ \n",
    "<img src=\"../bs.png\" width=\"25%\" align=\"centre\">\n",
    "\t\t"
   ]
  },
  {
   "cell_type": "markdown",
   "metadata": {},
   "source": [
    "## Measurement"
   ]
  },
  {
   "cell_type": "markdown",
   "metadata": {},
   "source": [
    "We have already established that a quantum state exists as a superposition of many different states, so when a quantum state is measured it probabilistically collapses to one of these states. This means that the state you get after one measurtement cannot be predicted it will be completely random from among the possible basis states that the wave function is in superposition of. However, if you make multiple measurements over a large number of same quantum states, you will see that the probablility of a certain basis state popping up will be equal to the square of the amplitude of that basis state in the governing wave function.\n",
    "\n",
    "This randomness is not due to some noise or faulty apparatus. \n",
    "\n",
    " #### <b>In Quantum theory it is an intrinsic property</b>\n",
    " \n",
    " While this randonmness is intrinsic, there are a lot of practical avenues that introduce  actual noise in the measured output which significantly impact the performance of the computers. This noise is due to the combined evolution of the bath/environment and the quantum system and it causes error in the measured bits.\n",
    " \n",
    " "
   ]
  },
  {
   "cell_type": "markdown",
   "metadata": {},
   "source": [
    "## Quantum Gates\n",
    "Difference between Quantum and classical gates:  \\\n",
    "<font color=\"blue\"> <b>Quantum gates are reversible </b><font> \\\n",
    "<img src=\"../gates.png\" width=\"62%\" align=\"centre\"> \\\n",
    "<font color=\"black\">\\\n",
    "Mathematically, these gates can be expresssed as unitary matrices such that the tranjugate of the matrix equals the inverse of the matrix. This inverse signifies the reversed operation so describing the reversible nature of the computation. \n",
    "    $$U^{\\dagger}=U^{-1}$$\\\n",
    "Any Quantum Circuit, performing any computation, can be described by a unitary matrix, a fact that can come in handy in the theoretical analysis of these circuits and while considering the error correcting protocols and codes.\n",
    "    We will also see that in a given Hilbert Space, no such unitary is possible which can copy an arbitrary state from a system A of that space to another independant system B of the same hilbert space.This is the <b>\"No Cloning Theorem\"</b>, which will be covered in detail later.  \n",
    "    \n",
    "    \n",
    "\n"
   ]
  },
  {
   "cell_type": "markdown",
   "metadata": {},
   "source": [
    "\n",
    "\n",
    "  \n",
    "  "
   ]
  },
  {
   "cell_type": "markdown",
   "metadata": {},
   "source": [
    "# Information "
   ]
  },
  {
   "cell_type": "markdown",
   "metadata": {},
   "source": [
    "Theoretically, Information can  be seen as the amount of uncertainty associated with an event. The more uncertain an event is , the less you know about it and hence the amount of \"information\" available to be communicated about that event is high. So information is directly proportional to the amount of uncertainty. One can also note that uncertainty is inversely related with the probabilty of the event, if the probability is high you are more certain that the event will happen. Further, working with codes in binary we can say that the amount of bits we need to specify this uncertainty can be seen as a measure of information.  This measure of information is called \"Entropy(H)\" and it is measured in bits.\n",
    "$$H=log_2(1/p_e)$$\n",
    "\n",
    "The data that we feed into a quantum circuit in  any form is also essentially information. The circuit processes this information and produces something as the output. Many physical factors affect the output and the overall effect of these different types of noise can distort the information that was supposed to be interpreted from the output. \n",
    "For this reason we encode the output, introducing redundancy in such a way that the output can be reliably interpreted even in the presence of noise.\n",
    "\n",
    "A simililar approach is to be followed when this information is being transferred over a communication channel.This gives rise to the clasically inspired theory of Quantum Error Correcting Codes. QECC along with Quantum  Information Theory are important for achieving the goal of reliable fault tolerant quantum computation."
   ]
  },
  {
   "cell_type": "markdown",
   "metadata": {},
   "source": [
    "## Basic Block Level Understanding of Communication."
   ]
  },
  {
   "cell_type": "markdown",
   "metadata": {},
   "source": [
    "<li> Information </li>\n",
    "<li> Encoding </li>\n",
    "<li> Information Channel </li>\n",
    "<li> Decoding </li>\n",
    "<li> Information recieved </li>"
   ]
  },
  {
   "cell_type": "markdown",
   "metadata": {},
   "source": [
    "<img src=\"../info.png\" width=\"62%\" align=\"centre\">"
   ]
  },
  {
   "cell_type": "markdown",
   "metadata": {},
   "source": [
    "These same steps can be extended to Quantum Measurement by thinking of the measurement as an information channel that introduces noise of its own.\n",
    "\n",
    "In Quantum computing we can have two main types of erors. \n",
    "<li> Bit-flip errors where a $|0⟩$ changes to a $|1⟩$ and vice versa. </li>\n",
    "<li> A phase-filp error where the phase of a qubit can change due to the noise. </li>\n",
    "\n",
    "We design QEC codes so they have better and better error correcting capabilities while maintaining efficient circuits and high rates of information transfer i.e redundancy is minimized.This is similar to classical Error correcting codes and we will see that many classical ECC have analogous implementation in QECC. \n",
    "\n",
    "The most simple classical Error Correcting Code is the repetion code, where we send copies of the bit(message) we are transferring as part of the message so even if error is encountered one can detect the original message by deciding on majority. Finding the quantum analogue of this code is not as straightforward as the \" No Cloning Theorem\" bars us from making copies of arbitriry quantum states.\n",
    "\n",
    "In the next notebook we will look at this theorem in detail and see how we get around it to contruct the required Quantum Analogue for the Repetion code.\n"
   ]
  },
  {
   "cell_type": "markdown",
   "metadata": {},
   "source": []
  },
  {
   "cell_type": "code",
   "execution_count": null,
   "metadata": {},
   "outputs": [],
   "source": []
  },
  {
   "cell_type": "code",
   "execution_count": null,
   "metadata": {},
   "outputs": [],
   "source": []
  }
 ],
 "metadata": {
  "kernelspec": {
   "display_name": "Python 3",
   "language": "python",
   "name": "python3"
  },
  "language_info": {
   "codemirror_mode": {
    "name": "ipython",
    "version": 3
   },
   "file_extension": ".py",
   "mimetype": "text/x-python",
   "name": "python",
   "nbconvert_exporter": "python",
   "pygments_lexer": "ipython3",
   "version": "3.8.5"
  }
 },
 "nbformat": 4,
 "nbformat_minor": 4
}
